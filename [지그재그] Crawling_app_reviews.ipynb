{
 "cells": [
  {
   "cell_type": "code",
   "execution_count": 146,
   "metadata": {},
   "outputs": [],
   "source": [
    "############################################ 라이브러리 로드 #########################################\n",
    "import requests\n",
    "import time\n",
    "import csv\n",
    "import re\n",
    "from bs4 import BeautifulSoup\n",
    "from selenium import webdriver\n",
    "import pandas as pd\n",
    "#######################################################################################################\n",
    "\n",
    "\n",
    "#별점을 정수화\n",
    "def change_stars(stars):\n",
    "    \n",
    "    if stars == '1/5':\n",
    "            rating = 1\n",
    "    elif stars == '2/5':\n",
    "        rating = 2\n",
    "    elif stars == '3/5':\n",
    "        rating = 3\n",
    "    elif stars == '4/5':\n",
    "        rating = 4\n",
    "    else:\n",
    "        rating = 5\n",
    "            \n",
    "    return rating\n",
    "\n",
    "\n",
    "def app_review_crawling(url):\n",
    "    \n",
    "    #무한스크롤\n",
    "    driver = webdriver.Chrome('/chromedriver')\n",
    "    driver.get(url)\n",
    "    driver.implicitly_wait(5)\n",
    "    SCROLL_PAUSE_TIME = 2\n",
    "    last_height = driver.execute_script(\"return document.body.scrollHeight\") # 스크롤 높이 가져오기\n",
    "    count = 0\n",
    "\n",
    "    while True:\n",
    "                                                            \n",
    "        driver.execute_script(\"window.scrollTo(0, document.body.scrollHeight);\") # 아래까지 스크롤하기 \n",
    "        time.sleep(SCROLL_PAUSE_TIME) # 페이지 로드 기다리기                                                \n",
    "        driver.execute_script(\"window.scrollTo(0, document.body.scrollHeight-50);\")  \n",
    "        time.sleep(SCROLL_PAUSE_TIME)\n",
    "        new_height = driver.execute_script(\"return document.body.scrollHeight\")\n",
    "        \n",
    "        #50번 스크롤함\n",
    "        if count == 50:                                                \n",
    "            break\n",
    "\n",
    "        last_height = new_height\n",
    "        count += 1\n",
    "    \n",
    "    \n",
    "    #데이터 파싱\n",
    "    html = driver.page_source\n",
    "    soup = BeautifulSoup(html,'html.parser')\n",
    "    div_tags = soup.select('div.l-row > div.ember-view')\n",
    "    print(len(div_tags)) # 리뷰 개수\n",
    "    temp_dict = {} \n",
    "    \n",
    "    \n",
    "    #딕셔너리에 값 넣기\n",
    "    for i in range(len(div_tags)):\n",
    "        \n",
    "        header = div_tags[i].find(class_ = 'we-customer-review__header') # 하나의 리뷰박스\n",
    "        date = header.find('time',class_ = 'we-customer-review__date').text\n",
    "        title = div_tags[i].find('h3', class_='we-customer-review__title').get_text(strip = True)\n",
    "        body_tags = div_tags[i].find('blockquote', class_='we-customer-review__body').find_all('p')\n",
    "        body = ''\n",
    "        for body_tag in body_tags:\n",
    "            body += ' ' + body_tag.text\n",
    "        body = body.lstrip()\n",
    "        stars = div_tags[i].find('figure')['aria-label']\n",
    "        rating = change_stars(stars)\n",
    "        temp_dict[i] = {'작성날짜':date, '제목':title, '내용':body, '평점':rating}\n",
    "    \n",
    "    \n",
    "    #데이터프레임 생성\n",
    "    review_df = pd.DataFrame(temp_dict).transpose()\n",
    "    \n",
    "    return review_df"
   ]
  },
  {
   "cell_type": "code",
   "execution_count": 141,
   "metadata": {},
   "outputs": [],
   "source": [
    "지그재그 = 'https://apps.apple.com/kr/app/%EC%A7%80%EA%B7%B8%EC%9E%AC%EA%B7%B8-no-1-%EC%97%AC%EC%84%B1%EC%87%BC%ED%95%91%EB%AA%B0-%EB%AA%A8%EC%9D%8C%EC%95%B1/id976131101?app=itunes&ign-mpt=uo%253D4#see-all/reviews'\n",
    "에이블리 = 'https://apps.apple.com/kr/app/%EC%97%90%EC%9D%B4%EB%B8%94%EB%A6%AC-%EC%85%80%EB%9F%BD%EB%A7%88%EC%BC%93-%EB%AA%A8%EC%9D%8C%EC%95%B1/id1084960428#see-all/reviews'\n",
    "브랜디 = 'https://apps.apple.com/kr/app/%EB%B8%8C%EB%9E%9C%EB%94%94-%EC%A0%84%EC%83%81%ED%92%88-%EB%AC%B4%EB%B0%B0/id1005442353#see-all/reviews'"
   ]
  },
  {
   "cell_type": "code",
   "execution_count": 142,
   "metadata": {},
   "outputs": [
    {
     "name": "stdout",
     "output_type": "stream",
     "text": [
      "940\n"
     ]
    }
   ],
   "source": [
    "raw_zigzag_df = app_review_crawling(지그재그)"
   ]
  },
  {
   "cell_type": "code",
   "execution_count": 143,
   "metadata": {
    "scrolled": false
   },
   "outputs": [
    {
     "name": "stdout",
     "output_type": "stream",
     "text": [
      "820\n"
     ]
    }
   ],
   "source": [
    "raw_ably_df = app_review_crawling(에이블리)"
   ]
  },
  {
   "cell_type": "code",
   "execution_count": 144,
   "metadata": {},
   "outputs": [
    {
     "name": "stdout",
     "output_type": "stream",
     "text": [
      "770\n"
     ]
    }
   ],
   "source": [
    "raw_brandy_df = app_review_crawling(브랜디)"
   ]
  },
  {
   "cell_type": "code",
   "execution_count": 145,
   "metadata": {},
   "outputs": [],
   "source": [
    "raw_zigzag_df.to_csv(\"raw_zigzag_data.csv\")\n",
    "raw_ably_df.to_csv('raw_ably_data.csv')\n",
    "raw_brandy_df.to_csv('raw_brandy_data.csv')"
   ]
  }
 ],
 "metadata": {
  "kernelspec": {
   "display_name": "Python 3",
   "language": "python",
   "name": "python3"
  },
  "language_info": {
   "codemirror_mode": {
    "name": "ipython",
    "version": 3
   },
   "file_extension": ".py",
   "mimetype": "text/x-python",
   "name": "python",
   "nbconvert_exporter": "python",
   "pygments_lexer": "ipython3",
   "version": "3.6.5"
  }
 },
 "nbformat": 4,
 "nbformat_minor": 4
}
